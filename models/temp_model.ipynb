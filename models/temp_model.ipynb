{
 "cells": [
  {
   "cell_type": "code",
   "execution_count": 1,
   "id": "f3edf1cd",
   "metadata": {},
   "outputs": [],
   "source": [
    "import numpy as np\n",
    "import pandas as pd\n",
    "from sklearn.preprocessing import MinMaxScaler\n",
    "from sklearn.metrics import mean_squared_error\n",
    "from sklearn import metrics\n",
    "import matplotlib.pyplot as plt\n",
    "import seaborn as sns"
   ]
  },
  {
   "cell_type": "code",
   "execution_count": 2,
   "id": "c7e0a032",
   "metadata": {},
   "outputs": [
    {
     "data": {
      "text/html": [
       "<div>\n",
       "<style scoped>\n",
       "    .dataframe tbody tr th:only-of-type {\n",
       "        vertical-align: middle;\n",
       "    }\n",
       "\n",
       "    .dataframe tbody tr th {\n",
       "        vertical-align: top;\n",
       "    }\n",
       "\n",
       "    .dataframe thead th {\n",
       "        text-align: right;\n",
       "    }\n",
       "</style>\n",
       "<table border=\"1\" class=\"dataframe\">\n",
       "  <thead>\n",
       "    <tr style=\"text-align: right;\">\n",
       "      <th></th>\n",
       "      <th>cycle</th>\n",
       "      <th>ambient_temperature</th>\n",
       "      <th>datetime</th>\n",
       "      <th>capacity</th>\n",
       "      <th>voltage_measured</th>\n",
       "      <th>current_measured</th>\n",
       "      <th>temperature_measured</th>\n",
       "      <th>current_load</th>\n",
       "      <th>voltage_load</th>\n",
       "      <th>time</th>\n",
       "      <th>soh_calculated</th>\n",
       "    </tr>\n",
       "  </thead>\n",
       "  <tbody>\n",
       "    <tr>\n",
       "      <th>0</th>\n",
       "      <td>1</td>\n",
       "      <td>24</td>\n",
       "      <td>2008-04-02 15:25:41</td>\n",
       "      <td>1.856487</td>\n",
       "      <td>4.191492</td>\n",
       "      <td>-0.004902</td>\n",
       "      <td>24.330034</td>\n",
       "      <td>-0.0006</td>\n",
       "      <td>0.000</td>\n",
       "      <td>0.000</td>\n",
       "      <td>1.0</td>\n",
       "    </tr>\n",
       "    <tr>\n",
       "      <th>1</th>\n",
       "      <td>1</td>\n",
       "      <td>24</td>\n",
       "      <td>2008-04-02 15:25:41</td>\n",
       "      <td>1.856487</td>\n",
       "      <td>4.190749</td>\n",
       "      <td>-0.001478</td>\n",
       "      <td>24.325993</td>\n",
       "      <td>-0.0006</td>\n",
       "      <td>4.206</td>\n",
       "      <td>16.781</td>\n",
       "      <td>1.0</td>\n",
       "    </tr>\n",
       "    <tr>\n",
       "      <th>2</th>\n",
       "      <td>1</td>\n",
       "      <td>24</td>\n",
       "      <td>2008-04-02 15:25:41</td>\n",
       "      <td>1.856487</td>\n",
       "      <td>3.974871</td>\n",
       "      <td>-2.012528</td>\n",
       "      <td>24.389085</td>\n",
       "      <td>-1.9982</td>\n",
       "      <td>3.062</td>\n",
       "      <td>35.703</td>\n",
       "      <td>1.0</td>\n",
       "    </tr>\n",
       "    <tr>\n",
       "      <th>3</th>\n",
       "      <td>1</td>\n",
       "      <td>24</td>\n",
       "      <td>2008-04-02 15:25:41</td>\n",
       "      <td>1.856487</td>\n",
       "      <td>3.951717</td>\n",
       "      <td>-2.013979</td>\n",
       "      <td>24.544752</td>\n",
       "      <td>-1.9982</td>\n",
       "      <td>3.030</td>\n",
       "      <td>53.781</td>\n",
       "      <td>1.0</td>\n",
       "    </tr>\n",
       "    <tr>\n",
       "      <th>4</th>\n",
       "      <td>1</td>\n",
       "      <td>24</td>\n",
       "      <td>2008-04-02 15:25:41</td>\n",
       "      <td>1.856487</td>\n",
       "      <td>3.934352</td>\n",
       "      <td>-2.011144</td>\n",
       "      <td>24.731385</td>\n",
       "      <td>-1.9982</td>\n",
       "      <td>3.011</td>\n",
       "      <td>71.922</td>\n",
       "      <td>1.0</td>\n",
       "    </tr>\n",
       "  </tbody>\n",
       "</table>\n",
       "</div>"
      ],
      "text/plain": [
       "   cycle  ambient_temperature             datetime  capacity  \\\n",
       "0      1                   24  2008-04-02 15:25:41  1.856487   \n",
       "1      1                   24  2008-04-02 15:25:41  1.856487   \n",
       "2      1                   24  2008-04-02 15:25:41  1.856487   \n",
       "3      1                   24  2008-04-02 15:25:41  1.856487   \n",
       "4      1                   24  2008-04-02 15:25:41  1.856487   \n",
       "\n",
       "   voltage_measured  current_measured  temperature_measured  current_load  \\\n",
       "0          4.191492         -0.004902             24.330034       -0.0006   \n",
       "1          4.190749         -0.001478             24.325993       -0.0006   \n",
       "2          3.974871         -2.012528             24.389085       -1.9982   \n",
       "3          3.951717         -2.013979             24.544752       -1.9982   \n",
       "4          3.934352         -2.011144             24.731385       -1.9982   \n",
       "\n",
       "   voltage_load    time  soh_calculated  \n",
       "0         0.000   0.000             1.0  \n",
       "1         4.206  16.781             1.0  \n",
       "2         3.062  35.703             1.0  \n",
       "3         3.030  53.781             1.0  \n",
       "4         3.011  71.922             1.0  "
      ]
     },
     "execution_count": 2,
     "metadata": {},
     "output_type": "execute_result"
    }
   ],
   "source": [
    "df = pd.read_csv('result.csv')\n",
    "df.head()"
   ]
  },
  {
   "cell_type": "code",
   "execution_count": 3,
   "id": "98608094",
   "metadata": {
    "scrolled": true
   },
   "outputs": [
    {
     "data": {
      "text/plain": [
       "<bound method NDFrame.describe of         voltage_measured  current_measured  temperature_measured      time  \\\n",
       "0               4.191492         -0.004902             24.330034     0.000   \n",
       "1               4.190749         -0.001478             24.325993    16.781   \n",
       "2               3.974871         -2.012528             24.389085    35.703   \n",
       "3               3.951717         -2.013979             24.544752    53.781   \n",
       "4               3.934352         -2.011144             24.731385    71.922   \n",
       "...                  ...               ...                   ...       ...   \n",
       "185716          3.443760         -0.002426             35.383979  2686.359   \n",
       "185717          3.453271         -0.000981             35.179732  2700.546   \n",
       "185718          3.461963          0.000209             34.977000  2714.640   \n",
       "185719          3.469907          0.001516             34.785943  2728.750   \n",
       "185720          3.477277         -0.001940             34.581660  2742.843   \n",
       "\n",
       "        soh_calculated  \n",
       "0             1.000000  \n",
       "1             1.000000  \n",
       "2             1.000000  \n",
       "3             1.000000  \n",
       "4             1.000000  \n",
       "...                ...  \n",
       "185716        0.722937  \n",
       "185717        0.722937  \n",
       "185718        0.722937  \n",
       "185719        0.722937  \n",
       "185720        0.722937  \n",
       "\n",
       "[185721 rows x 5 columns]>"
      ]
     },
     "execution_count": 3,
     "metadata": {},
     "output_type": "execute_result"
    }
   ],
   "source": [
    "df.drop(['current_load', 'voltage_load', 'cycle', 'ambient_temperature',\n",
    "         'datetime', 'capacity' ], axis=1, inplace= True)\n",
    "df.describe"
   ]
  },
  {
   "cell_type": "code",
   "execution_count": 4,
   "id": "72df3ba7",
   "metadata": {},
   "outputs": [
    {
     "name": "stdout",
     "output_type": "stream",
     "text": [
      "(185721, 2)\n"
     ]
    }
   ],
   "source": [
    "input_para = [ 'voltage_measured', 'current_measured' ]\n",
    "train_dataset = df[input_para]\n",
    "\n",
    "print(train_dataset.shape)"
   ]
  },
  {
   "cell_type": "code",
   "execution_count": 5,
   "id": "1d0afa81",
   "metadata": {
    "scrolled": true
   },
   "outputs": [
    {
     "name": "stdout",
     "output_type": "stream",
     "text": [
      "(185721,)\n"
     ]
    }
   ],
   "source": [
    "output_var = df['temperature_measured'] \n",
    "print(output_var.shape)"
   ]
  },
  {
   "cell_type": "code",
   "execution_count": 6,
   "id": "ae39c7da",
   "metadata": {},
   "outputs": [],
   "source": [
    "from sklearn.model_selection import train_test_split\n",
    "x_train,x_test,  y_train, y_test = train_test_split(train_dataset, output_var, test_size= 0.20)"
   ]
  },
  {
   "cell_type": "code",
   "execution_count": 7,
   "id": "f2cfd6e6",
   "metadata": {},
   "outputs": [
    {
     "name": "stdout",
     "output_type": "stream",
     "text": [
      "(148576, 2)\n",
      "(37145, 2)\n",
      "(148576,)\n",
      "(37145,)\n"
     ]
    }
   ],
   "source": [
    "print(x_train.shape)\n",
    "print(x_test.shape)\n",
    "print(y_train.shape)\n",
    "print(y_test.shape)"
   ]
  },
  {
   "cell_type": "code",
   "execution_count": 8,
   "id": "4f8272d2",
   "metadata": {},
   "outputs": [],
   "source": [
    "from sklearn.ensemble import RandomForestRegressor\n",
    "model = RandomForestRegressor(n_estimators=100, random_state=30)"
   ]
  },
  {
   "cell_type": "code",
   "execution_count": 9,
   "id": "df1b800e",
   "metadata": {},
   "outputs": [],
   "source": [
    "history = model.fit(x_train, y_train)"
   ]
  },
  {
   "cell_type": "code",
   "execution_count": 10,
   "id": "b04b5fcf",
   "metadata": {},
   "outputs": [
    {
     "name": "stdout",
     "output_type": "stream",
     "text": [
      "(37145,)\n",
      "[35.02444147 39.35335307 33.25652269 ... 35.98772963 28.33980838\n",
      " 36.25811498]\n"
     ]
    }
   ],
   "source": [
    "temp_pred = model.predict(x_test)\n",
    "print(temp_pred.shape)\n",
    "print(temp_pred)"
   ]
  },
  {
   "cell_type": "code",
   "execution_count": 11,
   "id": "4babc329",
   "metadata": {},
   "outputs": [
    {
     "data": {
      "text/plain": [
       "179143    34.353655\n",
       "4729      36.824469\n",
       "34610     34.286237\n",
       "30459     32.899792\n",
       "113543    24.446878\n",
       "            ...    \n",
       "53573     29.728661\n",
       "87351     32.805687\n",
       "70346     35.549533\n",
       "94301     27.302274\n",
       "48399     36.611603\n",
       "Name: temperature_measured, Length: 37145, dtype: float64"
      ]
     },
     "execution_count": 11,
     "metadata": {},
     "output_type": "execute_result"
    }
   ],
   "source": [
    "y_test"
   ]
  },
  {
   "cell_type": "code",
   "execution_count": 12,
   "id": "24a6792c",
   "metadata": {
    "scrolled": true
   },
   "outputs": [],
   "source": [
    "df_pred = pd.DataFrame( temp_pred , y_test)\n",
    "df_pred.reset_index(inplace=True)"
   ]
  },
  {
   "cell_type": "code",
   "execution_count": 13,
   "id": "ee5147dc",
   "metadata": {},
   "outputs": [
    {
     "name": "stdout",
     "output_type": "stream",
     "text": [
      "<class 'pandas.core.frame.DataFrame'>\n",
      "RangeIndex: 37145 entries, 0 to 37144\n",
      "Data columns (total 2 columns):\n",
      " #   Column                Non-Null Count  Dtype  \n",
      "---  ------                --------------  -----  \n",
      " 0   temperature_measured  37145 non-null  float64\n",
      " 1   0                     37145 non-null  float64\n",
      "dtypes: float64(2)\n",
      "memory usage: 580.5 KB\n"
     ]
    }
   ],
   "source": [
    "df_pred.info()"
   ]
  },
  {
   "cell_type": "code",
   "execution_count": 14,
   "id": "7379ca4b",
   "metadata": {},
   "outputs": [],
   "source": [
    "df_pred = df_pred.rename(columns={0: 'temp_predicted'})"
   ]
  },
  {
   "cell_type": "code",
   "execution_count": 15,
   "id": "cb953a57",
   "metadata": {
    "scrolled": true
   },
   "outputs": [
    {
     "data": {
      "text/html": [
       "<div>\n",
       "<style scoped>\n",
       "    .dataframe tbody tr th:only-of-type {\n",
       "        vertical-align: middle;\n",
       "    }\n",
       "\n",
       "    .dataframe tbody tr th {\n",
       "        vertical-align: top;\n",
       "    }\n",
       "\n",
       "    .dataframe thead th {\n",
       "        text-align: right;\n",
       "    }\n",
       "</style>\n",
       "<table border=\"1\" class=\"dataframe\">\n",
       "  <thead>\n",
       "    <tr style=\"text-align: right;\">\n",
       "      <th></th>\n",
       "      <th>temperature_measured</th>\n",
       "      <th>temp_predicted</th>\n",
       "    </tr>\n",
       "  </thead>\n",
       "  <tbody>\n",
       "    <tr>\n",
       "      <th>0</th>\n",
       "      <td>34.353655</td>\n",
       "      <td>35.024441</td>\n",
       "    </tr>\n",
       "    <tr>\n",
       "      <th>1</th>\n",
       "      <td>36.824469</td>\n",
       "      <td>39.353353</td>\n",
       "    </tr>\n",
       "    <tr>\n",
       "      <th>2</th>\n",
       "      <td>34.286237</td>\n",
       "      <td>33.256523</td>\n",
       "    </tr>\n",
       "    <tr>\n",
       "      <th>3</th>\n",
       "      <td>32.899792</td>\n",
       "      <td>32.319793</td>\n",
       "    </tr>\n",
       "    <tr>\n",
       "      <th>4</th>\n",
       "      <td>24.446878</td>\n",
       "      <td>24.479903</td>\n",
       "    </tr>\n",
       "  </tbody>\n",
       "</table>\n",
       "</div>"
      ],
      "text/plain": [
       "   temperature_measured  temp_predicted\n",
       "0             34.353655       35.024441\n",
       "1             36.824469       39.353353\n",
       "2             34.286237       33.256523\n",
       "3             32.899792       32.319793\n",
       "4             24.446878       24.479903"
      ]
     },
     "execution_count": 15,
     "metadata": {},
     "output_type": "execute_result"
    }
   ],
   "source": [
    "df_pred.head()"
   ]
  },
  {
   "cell_type": "code",
   "execution_count": 16,
   "id": "72f811d9",
   "metadata": {},
   "outputs": [
    {
     "name": "stdout",
     "output_type": "stream",
     "text": [
      "R2 score: 0.9342758818761713\n",
      "MAE: 0.7835154274864046\n",
      "MSE: 1.0712731702658866\n",
      "RMSE: 1.035023270398249\n"
     ]
    }
   ],
   "source": [
    "from sklearn.metrics import r2_score, mean_squared_error, mean_absolute_error, accuracy_score\n",
    "print('R2 score:', r2_score(y_test, temp_pred))\n",
    "print('MAE:', mean_absolute_error(y_test, temp_pred))\n",
    "print('MSE:', mean_squared_error(y_test, temp_pred))\n",
    "print('RMSE:', np.sqrt(mean_squared_error(y_test, temp_pred)))"
   ]
  },
  {
   "cell_type": "code",
   "execution_count": 17,
   "id": "772de73e",
   "metadata": {},
   "outputs": [],
   "source": [
    "# df_sorted = df_pred.sort_values('temperature_measured', ascending=True)\n",
    "# df_sorted.reset_index(inplace= True)\n",
    "# df_sorted['Index'] = df_sorted.index\n",
    "# df_sorted.head(10)"
   ]
  },
  {
   "cell_type": "code",
   "execution_count": 18,
   "id": "314b8704",
   "metadata": {},
   "outputs": [],
   "source": [
    "# plt.figure(figsize = (15,8))\n",
    "# plt.plot(df_sorted[\"Index\"], df_sorted['temperature_measured'], 'r' ,label='Actual Temperature')\n",
    "# plt.scatter(df_sorted[\"Index\"], df_sorted['temp_predicted'], s=2 ,alpha=0.5, label='Predicted by RF')\n",
    "# plt.ylabel('Temperature')\n",
    "# plt.xlabel('Tested Instances')\n",
    "# plt.title('Temperature Estimation Comparative Analysis')\n",
    "# plt.legend()"
   ]
  },
  {
   "cell_type": "code",
   "execution_count": null,
   "id": "34a6ed93",
   "metadata": {},
   "outputs": [],
   "source": []
  },
  {
   "cell_type": "code",
   "execution_count": 19,
   "id": "b59660b9",
   "metadata": {},
   "outputs": [],
   "source": [
    "import pickle\n",
    "pickle_out = open('temp_model.pkl', 'wb')\n",
    "pickle.dump(model, pickle_out)\n",
    "pickle_out.close()"
   ]
  },
  {
   "cell_type": "code",
   "execution_count": 20,
   "id": "8713da6d",
   "metadata": {},
   "outputs": [],
   "source": [
    "model = pickle.load(open('model.pkl', 'rb'))"
   ]
  },
  {
   "cell_type": "code",
   "execution_count": 21,
   "id": "d4e7c7d4",
   "metadata": {},
   "outputs": [
    {
     "data": {
      "text/plain": [
       "array([28.40596617, 28.45976479, 38.02181924, ..., 31.41327617,\n",
       "       26.63286526, 26.13823471])"
      ]
     },
     "execution_count": 21,
     "metadata": {},
     "output_type": "execute_result"
    }
   ],
   "source": [
    "model.predict(x_test)"
   ]
  },
  {
   "cell_type": "code",
   "execution_count": 22,
   "id": "cb150e63",
   "metadata": {},
   "outputs": [
    {
     "data": {
      "text/plain": [
       "array([24.39724012])"
      ]
     },
     "execution_count": 22,
     "metadata": {},
     "output_type": "execute_result"
    }
   ],
   "source": [
    "model.predict([[3.754, -2.111 ]])"
   ]
  },
  {
   "cell_type": "code",
   "execution_count": 1,
   "id": "913ea82b",
   "metadata": {},
   "outputs": [
    {
     "data": {
      "text/html": [
       "<div>\n",
       "<style scoped>\n",
       "    .dataframe tbody tr th:only-of-type {\n",
       "        vertical-align: middle;\n",
       "    }\n",
       "\n",
       "    .dataframe tbody tr th {\n",
       "        vertical-align: top;\n",
       "    }\n",
       "\n",
       "    .dataframe thead th {\n",
       "        text-align: right;\n",
       "    }\n",
       "</style>\n",
       "<table border=\"1\" class=\"dataframe\">\n",
       "  <thead>\n",
       "    <tr style=\"text-align: right;\">\n",
       "      <th></th>\n",
       "      <th>voltage_measured</th>\n",
       "      <th>current_measured</th>\n",
       "    </tr>\n",
       "  </thead>\n",
       "  <tbody>\n",
       "    <tr>\n",
       "      <th>0</th>\n",
       "      <td>4.191492</td>\n",
       "      <td>-0.004902</td>\n",
       "    </tr>\n",
       "    <tr>\n",
       "      <th>1</th>\n",
       "      <td>4.190749</td>\n",
       "      <td>-0.001478</td>\n",
       "    </tr>\n",
       "    <tr>\n",
       "      <th>2</th>\n",
       "      <td>3.974871</td>\n",
       "      <td>-2.012528</td>\n",
       "    </tr>\n",
       "    <tr>\n",
       "      <th>3</th>\n",
       "      <td>3.951717</td>\n",
       "      <td>-2.013979</td>\n",
       "    </tr>\n",
       "    <tr>\n",
       "      <th>4</th>\n",
       "      <td>3.934352</td>\n",
       "      <td>-2.011144</td>\n",
       "    </tr>\n",
       "  </tbody>\n",
       "</table>\n",
       "</div>"
      ],
      "text/plain": [
       "   voltage_measured  current_measured\n",
       "0          4.191492         -0.004902\n",
       "1          4.190749         -0.001478\n",
       "2          3.974871         -2.012528\n",
       "3          3.951717         -2.013979\n",
       "4          3.934352         -2.011144"
      ]
     },
     "execution_count": 1,
     "metadata": {},
     "output_type": "execute_result"
    }
   ],
   "source": [
    "import pandas as pd\n",
    "data = pd.read_excel('test.xlsx')\n",
    "data.head()"
   ]
  },
  {
   "cell_type": "code",
   "execution_count": 2,
   "id": "37c380d8",
   "metadata": {},
   "outputs": [
    {
     "data": {
      "text/plain": [
       "Index(['voltage_measured', 'current_measured'], dtype='object')"
      ]
     },
     "execution_count": 2,
     "metadata": {},
     "output_type": "execute_result"
    }
   ],
   "source": [
    "data.columns"
   ]
  },
  {
   "cell_type": "code",
   "execution_count": null,
   "id": "3f030bf2",
   "metadata": {},
   "outputs": [],
   "source": []
  }
 ],
 "metadata": {
  "kernelspec": {
   "display_name": "Python 3 (ipykernel)",
   "language": "python",
   "name": "python3"
  },
  "language_info": {
   "codemirror_mode": {
    "name": "ipython",
    "version": 3
   },
   "file_extension": ".py",
   "mimetype": "text/x-python",
   "name": "python",
   "nbconvert_exporter": "python",
   "pygments_lexer": "ipython3",
   "version": "3.9.13"
  }
 },
 "nbformat": 4,
 "nbformat_minor": 5
}
