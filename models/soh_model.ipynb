{
 "cells": [
  {
   "cell_type": "code",
   "execution_count": 19,
   "id": "f3edf1cd",
   "metadata": {},
   "outputs": [],
   "source": [
    "import numpy as np\n",
    "import pandas as pd\n",
    "from sklearn.preprocessing import MinMaxScaler\n",
    "from sklearn.metrics import mean_squared_error\n",
    "from sklearn import metrics\n",
    "import matplotlib.pyplot as plt\n",
    "import seaborn as sns"
   ]
  },
  {
   "cell_type": "code",
   "execution_count": 20,
   "id": "c7e0a032",
   "metadata": {},
   "outputs": [
    {
     "data": {
      "text/html": [
       "<div>\n",
       "<style scoped>\n",
       "    .dataframe tbody tr th:only-of-type {\n",
       "        vertical-align: middle;\n",
       "    }\n",
       "\n",
       "    .dataframe tbody tr th {\n",
       "        vertical-align: top;\n",
       "    }\n",
       "\n",
       "    .dataframe thead th {\n",
       "        text-align: right;\n",
       "    }\n",
       "</style>\n",
       "<table border=\"1\" class=\"dataframe\">\n",
       "  <thead>\n",
       "    <tr style=\"text-align: right;\">\n",
       "      <th></th>\n",
       "      <th>cycle</th>\n",
       "      <th>ambient_temperature</th>\n",
       "      <th>datetime</th>\n",
       "      <th>capacity</th>\n",
       "      <th>voltage_measured</th>\n",
       "      <th>current_measured</th>\n",
       "      <th>temperature_measured</th>\n",
       "      <th>current_load</th>\n",
       "      <th>voltage_load</th>\n",
       "      <th>time</th>\n",
       "      <th>soh_calculated</th>\n",
       "    </tr>\n",
       "  </thead>\n",
       "  <tbody>\n",
       "    <tr>\n",
       "      <th>0</th>\n",
       "      <td>1</td>\n",
       "      <td>24</td>\n",
       "      <td>2008-04-02 15:25:41</td>\n",
       "      <td>1.856487</td>\n",
       "      <td>4.191492</td>\n",
       "      <td>-0.004902</td>\n",
       "      <td>24.330034</td>\n",
       "      <td>-0.0006</td>\n",
       "      <td>0.000</td>\n",
       "      <td>0.000</td>\n",
       "      <td>1.000000</td>\n",
       "    </tr>\n",
       "    <tr>\n",
       "      <th>1</th>\n",
       "      <td>1</td>\n",
       "      <td>24</td>\n",
       "      <td>2008-04-02 15:25:41</td>\n",
       "      <td>1.856487</td>\n",
       "      <td>4.190749</td>\n",
       "      <td>-0.001478</td>\n",
       "      <td>24.325993</td>\n",
       "      <td>-0.0006</td>\n",
       "      <td>4.206</td>\n",
       "      <td>16.781</td>\n",
       "      <td>1.000000</td>\n",
       "    </tr>\n",
       "    <tr>\n",
       "      <th>2</th>\n",
       "      <td>1</td>\n",
       "      <td>24</td>\n",
       "      <td>2008-04-02 15:25:41</td>\n",
       "      <td>1.856487</td>\n",
       "      <td>3.974871</td>\n",
       "      <td>-2.012528</td>\n",
       "      <td>24.389085</td>\n",
       "      <td>-1.9982</td>\n",
       "      <td>3.062</td>\n",
       "      <td>35.703</td>\n",
       "      <td>1.000000</td>\n",
       "    </tr>\n",
       "    <tr>\n",
       "      <th>3</th>\n",
       "      <td>1</td>\n",
       "      <td>24</td>\n",
       "      <td>2008-04-02 15:25:41</td>\n",
       "      <td>1.856487</td>\n",
       "      <td>3.951717</td>\n",
       "      <td>-2.013979</td>\n",
       "      <td>24.544752</td>\n",
       "      <td>-1.9982</td>\n",
       "      <td>3.030</td>\n",
       "      <td>53.781</td>\n",
       "      <td>1.000000</td>\n",
       "    </tr>\n",
       "    <tr>\n",
       "      <th>4</th>\n",
       "      <td>1</td>\n",
       "      <td>24</td>\n",
       "      <td>2008-04-02 15:25:41</td>\n",
       "      <td>1.856487</td>\n",
       "      <td>3.934352</td>\n",
       "      <td>-2.011144</td>\n",
       "      <td>24.731385</td>\n",
       "      <td>-1.9982</td>\n",
       "      <td>3.011</td>\n",
       "      <td>71.922</td>\n",
       "      <td>1.000000</td>\n",
       "    </tr>\n",
       "    <tr>\n",
       "      <th>...</th>\n",
       "      <td>...</td>\n",
       "      <td>...</td>\n",
       "      <td>...</td>\n",
       "      <td>...</td>\n",
       "      <td>...</td>\n",
       "      <td>...</td>\n",
       "      <td>...</td>\n",
       "      <td>...</td>\n",
       "      <td>...</td>\n",
       "      <td>...</td>\n",
       "      <td>...</td>\n",
       "    </tr>\n",
       "    <tr>\n",
       "      <th>185716</th>\n",
       "      <td>132</td>\n",
       "      <td>24</td>\n",
       "      <td>2008-08-20 08:37:19</td>\n",
       "      <td>1.341051</td>\n",
       "      <td>3.443760</td>\n",
       "      <td>-0.002426</td>\n",
       "      <td>35.383979</td>\n",
       "      <td>0.0006</td>\n",
       "      <td>0.000</td>\n",
       "      <td>2686.359</td>\n",
       "      <td>0.722937</td>\n",
       "    </tr>\n",
       "    <tr>\n",
       "      <th>185717</th>\n",
       "      <td>132</td>\n",
       "      <td>24</td>\n",
       "      <td>2008-08-20 08:37:19</td>\n",
       "      <td>1.341051</td>\n",
       "      <td>3.453271</td>\n",
       "      <td>-0.000981</td>\n",
       "      <td>35.179732</td>\n",
       "      <td>0.0006</td>\n",
       "      <td>0.000</td>\n",
       "      <td>2700.546</td>\n",
       "      <td>0.722937</td>\n",
       "    </tr>\n",
       "    <tr>\n",
       "      <th>185718</th>\n",
       "      <td>132</td>\n",
       "      <td>24</td>\n",
       "      <td>2008-08-20 08:37:19</td>\n",
       "      <td>1.341051</td>\n",
       "      <td>3.461963</td>\n",
       "      <td>0.000209</td>\n",
       "      <td>34.977000</td>\n",
       "      <td>0.0006</td>\n",
       "      <td>0.000</td>\n",
       "      <td>2714.640</td>\n",
       "      <td>0.722937</td>\n",
       "    </tr>\n",
       "    <tr>\n",
       "      <th>185719</th>\n",
       "      <td>132</td>\n",
       "      <td>24</td>\n",
       "      <td>2008-08-20 08:37:19</td>\n",
       "      <td>1.341051</td>\n",
       "      <td>3.469907</td>\n",
       "      <td>0.001516</td>\n",
       "      <td>34.785943</td>\n",
       "      <td>0.0006</td>\n",
       "      <td>0.000</td>\n",
       "      <td>2728.750</td>\n",
       "      <td>0.722937</td>\n",
       "    </tr>\n",
       "    <tr>\n",
       "      <th>185720</th>\n",
       "      <td>132</td>\n",
       "      <td>24</td>\n",
       "      <td>2008-08-20 08:37:19</td>\n",
       "      <td>1.341051</td>\n",
       "      <td>3.477277</td>\n",
       "      <td>-0.001940</td>\n",
       "      <td>34.581660</td>\n",
       "      <td>0.0006</td>\n",
       "      <td>0.000</td>\n",
       "      <td>2742.843</td>\n",
       "      <td>0.722937</td>\n",
       "    </tr>\n",
       "  </tbody>\n",
       "</table>\n",
       "<p>185721 rows × 11 columns</p>\n",
       "</div>"
      ],
      "text/plain": [
       "        cycle  ambient_temperature             datetime  capacity  \\\n",
       "0           1                   24  2008-04-02 15:25:41  1.856487   \n",
       "1           1                   24  2008-04-02 15:25:41  1.856487   \n",
       "2           1                   24  2008-04-02 15:25:41  1.856487   \n",
       "3           1                   24  2008-04-02 15:25:41  1.856487   \n",
       "4           1                   24  2008-04-02 15:25:41  1.856487   \n",
       "...       ...                  ...                  ...       ...   \n",
       "185716    132                   24  2008-08-20 08:37:19  1.341051   \n",
       "185717    132                   24  2008-08-20 08:37:19  1.341051   \n",
       "185718    132                   24  2008-08-20 08:37:19  1.341051   \n",
       "185719    132                   24  2008-08-20 08:37:19  1.341051   \n",
       "185720    132                   24  2008-08-20 08:37:19  1.341051   \n",
       "\n",
       "        voltage_measured  current_measured  temperature_measured  \\\n",
       "0               4.191492         -0.004902             24.330034   \n",
       "1               4.190749         -0.001478             24.325993   \n",
       "2               3.974871         -2.012528             24.389085   \n",
       "3               3.951717         -2.013979             24.544752   \n",
       "4               3.934352         -2.011144             24.731385   \n",
       "...                  ...               ...                   ...   \n",
       "185716          3.443760         -0.002426             35.383979   \n",
       "185717          3.453271         -0.000981             35.179732   \n",
       "185718          3.461963          0.000209             34.977000   \n",
       "185719          3.469907          0.001516             34.785943   \n",
       "185720          3.477277         -0.001940             34.581660   \n",
       "\n",
       "        current_load  voltage_load      time  soh_calculated  \n",
       "0            -0.0006         0.000     0.000        1.000000  \n",
       "1            -0.0006         4.206    16.781        1.000000  \n",
       "2            -1.9982         3.062    35.703        1.000000  \n",
       "3            -1.9982         3.030    53.781        1.000000  \n",
       "4            -1.9982         3.011    71.922        1.000000  \n",
       "...              ...           ...       ...             ...  \n",
       "185716        0.0006         0.000  2686.359        0.722937  \n",
       "185717        0.0006         0.000  2700.546        0.722937  \n",
       "185718        0.0006         0.000  2714.640        0.722937  \n",
       "185719        0.0006         0.000  2728.750        0.722937  \n",
       "185720        0.0006         0.000  2742.843        0.722937  \n",
       "\n",
       "[185721 rows x 11 columns]"
      ]
     },
     "execution_count": 20,
     "metadata": {},
     "output_type": "execute_result"
    }
   ],
   "source": [
    "df = pd.read_csv('result.csv')\n",
    "df"
   ]
  },
  {
   "cell_type": "code",
   "execution_count": 21,
   "id": "98608094",
   "metadata": {
    "scrolled": true
   },
   "outputs": [
    {
     "data": {
      "text/plain": [
       "<bound method NDFrame.describe of         voltage_measured  current_measured  temperature_measured      time  \\\n",
       "0               4.191492         -0.004902             24.330034     0.000   \n",
       "1               4.190749         -0.001478             24.325993    16.781   \n",
       "2               3.974871         -2.012528             24.389085    35.703   \n",
       "3               3.951717         -2.013979             24.544752    53.781   \n",
       "4               3.934352         -2.011144             24.731385    71.922   \n",
       "...                  ...               ...                   ...       ...   \n",
       "185716          3.443760         -0.002426             35.383979  2686.359   \n",
       "185717          3.453271         -0.000981             35.179732  2700.546   \n",
       "185718          3.461963          0.000209             34.977000  2714.640   \n",
       "185719          3.469907          0.001516             34.785943  2728.750   \n",
       "185720          3.477277         -0.001940             34.581660  2742.843   \n",
       "\n",
       "        soh_calculated  \n",
       "0             1.000000  \n",
       "1             1.000000  \n",
       "2             1.000000  \n",
       "3             1.000000  \n",
       "4             1.000000  \n",
       "...                ...  \n",
       "185716        0.722937  \n",
       "185717        0.722937  \n",
       "185718        0.722937  \n",
       "185719        0.722937  \n",
       "185720        0.722937  \n",
       "\n",
       "[185721 rows x 5 columns]>"
      ]
     },
     "execution_count": 21,
     "metadata": {},
     "output_type": "execute_result"
    }
   ],
   "source": [
    "df.drop(['current_load', 'voltage_load', 'cycle', 'ambient_temperature',\n",
    "         'datetime', 'capacity' ], axis=1, inplace= True)\n",
    "df.describe"
   ]
  },
  {
   "cell_type": "code",
   "execution_count": 22,
   "id": "72df3ba7",
   "metadata": {},
   "outputs": [
    {
     "name": "stdout",
     "output_type": "stream",
     "text": [
      "(185721, 4)\n"
     ]
    }
   ],
   "source": [
    "input_para = ['time', 'voltage_measured', 'current_measured', 'temperature_measured'  ]\n",
    "train_dataset = df[input_para]\n",
    "# sc = MinMaxScaler(feature_range=(0,1))\n",
    "# train_dataset = sc.fit_transform(train_dataset)\n",
    "print(train_dataset.shape)"
   ]
  },
  {
   "cell_type": "code",
   "execution_count": 23,
   "id": "ed9df015",
   "metadata": {},
   "outputs": [
    {
     "data": {
      "text/html": [
       "<div>\n",
       "<style scoped>\n",
       "    .dataframe tbody tr th:only-of-type {\n",
       "        vertical-align: middle;\n",
       "    }\n",
       "\n",
       "    .dataframe tbody tr th {\n",
       "        vertical-align: top;\n",
       "    }\n",
       "\n",
       "    .dataframe thead th {\n",
       "        text-align: right;\n",
       "    }\n",
       "</style>\n",
       "<table border=\"1\" class=\"dataframe\">\n",
       "  <thead>\n",
       "    <tr style=\"text-align: right;\">\n",
       "      <th></th>\n",
       "      <th>time</th>\n",
       "      <th>voltage_measured</th>\n",
       "      <th>current_measured</th>\n",
       "      <th>temperature_measured</th>\n",
       "    </tr>\n",
       "  </thead>\n",
       "  <tbody>\n",
       "    <tr>\n",
       "      <th>0</th>\n",
       "      <td>0.000</td>\n",
       "      <td>4.191492</td>\n",
       "      <td>-0.004902</td>\n",
       "      <td>24.330034</td>\n",
       "    </tr>\n",
       "    <tr>\n",
       "      <th>1</th>\n",
       "      <td>16.781</td>\n",
       "      <td>4.190749</td>\n",
       "      <td>-0.001478</td>\n",
       "      <td>24.325993</td>\n",
       "    </tr>\n",
       "    <tr>\n",
       "      <th>2</th>\n",
       "      <td>35.703</td>\n",
       "      <td>3.974871</td>\n",
       "      <td>-2.012528</td>\n",
       "      <td>24.389085</td>\n",
       "    </tr>\n",
       "    <tr>\n",
       "      <th>3</th>\n",
       "      <td>53.781</td>\n",
       "      <td>3.951717</td>\n",
       "      <td>-2.013979</td>\n",
       "      <td>24.544752</td>\n",
       "    </tr>\n",
       "    <tr>\n",
       "      <th>4</th>\n",
       "      <td>71.922</td>\n",
       "      <td>3.934352</td>\n",
       "      <td>-2.011144</td>\n",
       "      <td>24.731385</td>\n",
       "    </tr>\n",
       "    <tr>\n",
       "      <th>...</th>\n",
       "      <td>...</td>\n",
       "      <td>...</td>\n",
       "      <td>...</td>\n",
       "      <td>...</td>\n",
       "    </tr>\n",
       "    <tr>\n",
       "      <th>185716</th>\n",
       "      <td>2686.359</td>\n",
       "      <td>3.443760</td>\n",
       "      <td>-0.002426</td>\n",
       "      <td>35.383979</td>\n",
       "    </tr>\n",
       "    <tr>\n",
       "      <th>185717</th>\n",
       "      <td>2700.546</td>\n",
       "      <td>3.453271</td>\n",
       "      <td>-0.000981</td>\n",
       "      <td>35.179732</td>\n",
       "    </tr>\n",
       "    <tr>\n",
       "      <th>185718</th>\n",
       "      <td>2714.640</td>\n",
       "      <td>3.461963</td>\n",
       "      <td>0.000209</td>\n",
       "      <td>34.977000</td>\n",
       "    </tr>\n",
       "    <tr>\n",
       "      <th>185719</th>\n",
       "      <td>2728.750</td>\n",
       "      <td>3.469907</td>\n",
       "      <td>0.001516</td>\n",
       "      <td>34.785943</td>\n",
       "    </tr>\n",
       "    <tr>\n",
       "      <th>185720</th>\n",
       "      <td>2742.843</td>\n",
       "      <td>3.477277</td>\n",
       "      <td>-0.001940</td>\n",
       "      <td>34.581660</td>\n",
       "    </tr>\n",
       "  </tbody>\n",
       "</table>\n",
       "<p>185721 rows × 4 columns</p>\n",
       "</div>"
      ],
      "text/plain": [
       "            time  voltage_measured  current_measured  temperature_measured\n",
       "0          0.000          4.191492         -0.004902             24.330034\n",
       "1         16.781          4.190749         -0.001478             24.325993\n",
       "2         35.703          3.974871         -2.012528             24.389085\n",
       "3         53.781          3.951717         -2.013979             24.544752\n",
       "4         71.922          3.934352         -2.011144             24.731385\n",
       "...          ...               ...               ...                   ...\n",
       "185716  2686.359          3.443760         -0.002426             35.383979\n",
       "185717  2700.546          3.453271         -0.000981             35.179732\n",
       "185718  2714.640          3.461963          0.000209             34.977000\n",
       "185719  2728.750          3.469907          0.001516             34.785943\n",
       "185720  2742.843          3.477277         -0.001940             34.581660\n",
       "\n",
       "[185721 rows x 4 columns]"
      ]
     },
     "execution_count": 23,
     "metadata": {},
     "output_type": "execute_result"
    }
   ],
   "source": [
    "train_dataset"
   ]
  },
  {
   "cell_type": "code",
   "execution_count": 24,
   "id": "1d0afa81",
   "metadata": {
    "scrolled": true
   },
   "outputs": [
    {
     "name": "stdout",
     "output_type": "stream",
     "text": [
      "(185721,)\n"
     ]
    }
   ],
   "source": [
    "output_var = df['soh_calculated'] \n",
    "print(output_var.shape)"
   ]
  },
  {
   "cell_type": "code",
   "execution_count": 26,
   "id": "ae39c7da",
   "metadata": {},
   "outputs": [],
   "source": [
    "from sklearn.model_selection import train_test_split\n",
    "x_train,x_test,  y_train, y_test = train_test_split(train_dataset, output_var, test_size= 0.20)"
   ]
  },
  {
   "cell_type": "code",
   "execution_count": 27,
   "id": "f2cfd6e6",
   "metadata": {},
   "outputs": [
    {
     "name": "stdout",
     "output_type": "stream",
     "text": [
      "(148576, 4)\n",
      "(37145, 4)\n",
      "(148576,)\n",
      "(37145,)\n"
     ]
    }
   ],
   "source": [
    "print(x_train.shape)\n",
    "print(x_test.shape)\n",
    "print(y_train.shape)\n",
    "print(y_test.shape)"
   ]
  },
  {
   "cell_type": "code",
   "execution_count": 28,
   "id": "4f8272d2",
   "metadata": {},
   "outputs": [],
   "source": [
    "from sklearn.ensemble import RandomForestRegressor\n",
    "model = RandomForestRegressor(n_estimators=100, random_state=30)"
   ]
  },
  {
   "cell_type": "code",
   "execution_count": 29,
   "id": "df1b800e",
   "metadata": {},
   "outputs": [],
   "source": [
    "history = model.fit(x_train, y_train)"
   ]
  },
  {
   "cell_type": "code",
   "execution_count": 30,
   "id": "b04b5fcf",
   "metadata": {},
   "outputs": [
    {
     "name": "stdout",
     "output_type": "stream",
     "text": [
      "(37145,)\n",
      "[0.90490924 0.87710327 0.82092679 ... 0.90256091 0.98333657 0.72714954]\n"
     ]
    }
   ],
   "source": [
    "soh_pred = model.predict(x_test)\n",
    "print(soh_pred.shape)\n",
    "print(soh_pred)"
   ]
  },
  {
   "cell_type": "code",
   "execution_count": 31,
   "id": "4babc329",
   "metadata": {},
   "outputs": [
    {
     "data": {
      "text/plain": [
       "117655    0.906358\n",
       "122501    0.867834\n",
       "25239     0.820176\n",
       "159907    0.922826\n",
       "2604      0.976813\n",
       "            ...   \n",
       "137114    0.800391\n",
       "102181    0.988704\n",
       "16374     0.907576\n",
       "2542      0.976813\n",
       "86254     0.690375\n",
       "Name: soh_calculated, Length: 37145, dtype: float64"
      ]
     },
     "execution_count": 31,
     "metadata": {},
     "output_type": "execute_result"
    }
   ],
   "source": [
    "y_test"
   ]
  },
  {
   "cell_type": "code",
   "execution_count": 32,
   "id": "24a6792c",
   "metadata": {
    "scrolled": true
   },
   "outputs": [],
   "source": [
    "df_pred = pd.DataFrame( soh_pred , y_test)\n",
    "df_pred.reset_index(inplace=True)"
   ]
  },
  {
   "cell_type": "code",
   "execution_count": 33,
   "id": "ee5147dc",
   "metadata": {},
   "outputs": [
    {
     "name": "stdout",
     "output_type": "stream",
     "text": [
      "<class 'pandas.core.frame.DataFrame'>\n",
      "RangeIndex: 37145 entries, 0 to 37144\n",
      "Data columns (total 2 columns):\n",
      " #   Column          Non-Null Count  Dtype  \n",
      "---  ------          --------------  -----  \n",
      " 0   soh_calculated  37145 non-null  float64\n",
      " 1   0               37145 non-null  float64\n",
      "dtypes: float64(2)\n",
      "memory usage: 580.5 KB\n"
     ]
    }
   ],
   "source": [
    "df_pred.info()"
   ]
  },
  {
   "cell_type": "code",
   "execution_count": 34,
   "id": "cb953a57",
   "metadata": {},
   "outputs": [
    {
     "data": {
      "text/html": [
       "<div>\n",
       "<style scoped>\n",
       "    .dataframe tbody tr th:only-of-type {\n",
       "        vertical-align: middle;\n",
       "    }\n",
       "\n",
       "    .dataframe tbody tr th {\n",
       "        vertical-align: top;\n",
       "    }\n",
       "\n",
       "    .dataframe thead th {\n",
       "        text-align: right;\n",
       "    }\n",
       "</style>\n",
       "<table border=\"1\" class=\"dataframe\">\n",
       "  <thead>\n",
       "    <tr style=\"text-align: right;\">\n",
       "      <th></th>\n",
       "      <th>soh_calculated</th>\n",
       "      <th>0</th>\n",
       "    </tr>\n",
       "  </thead>\n",
       "  <tbody>\n",
       "    <tr>\n",
       "      <th>0</th>\n",
       "      <td>0.906358</td>\n",
       "      <td>0.904909</td>\n",
       "    </tr>\n",
       "    <tr>\n",
       "      <th>1</th>\n",
       "      <td>0.867834</td>\n",
       "      <td>0.877103</td>\n",
       "    </tr>\n",
       "    <tr>\n",
       "      <th>2</th>\n",
       "      <td>0.820176</td>\n",
       "      <td>0.820927</td>\n",
       "    </tr>\n",
       "    <tr>\n",
       "      <th>3</th>\n",
       "      <td>0.922826</td>\n",
       "      <td>0.914792</td>\n",
       "    </tr>\n",
       "    <tr>\n",
       "      <th>4</th>\n",
       "      <td>0.976813</td>\n",
       "      <td>0.977913</td>\n",
       "    </tr>\n",
       "  </tbody>\n",
       "</table>\n",
       "</div>"
      ],
      "text/plain": [
       "   soh_calculated         0\n",
       "0        0.906358  0.904909\n",
       "1        0.867834  0.877103\n",
       "2        0.820176  0.820927\n",
       "3        0.922826  0.914792\n",
       "4        0.976813  0.977913"
      ]
     },
     "execution_count": 34,
     "metadata": {},
     "output_type": "execute_result"
    }
   ],
   "source": [
    "df_pred.head()"
   ]
  },
  {
   "cell_type": "code",
   "execution_count": 35,
   "id": "72f811d9",
   "metadata": {},
   "outputs": [
    {
     "name": "stdout",
     "output_type": "stream",
     "text": [
      "R2 score: 0.982336228073427\n",
      "MAE: 0.007419293486804705\n",
      "MSE: 0.0002014299408847106\n",
      "RMSE: 0.014192601624956244\n"
     ]
    }
   ],
   "source": [
    "from sklearn.metrics import r2_score, mean_squared_error, mean_absolute_error, accuracy_score\n",
    "print('R2 score:', r2_score(y_test, soh_pred))\n",
    "print('MAE:', mean_absolute_error(y_test, soh_pred))\n",
    "print('MSE:', mean_squared_error(y_test, soh_pred))\n",
    "print('RMSE:', np.sqrt(mean_squared_error(y_test, soh_pred)))"
   ]
  },
  {
   "cell_type": "code",
   "execution_count": 36,
   "id": "b59660b9",
   "metadata": {},
   "outputs": [],
   "source": [
    "import pickle\n",
    "pickle_out = open('soh_rf_est.pkl', 'wb')\n",
    "pickle.dump(model, pickle_out)\n",
    "pickle_out.close()"
   ]
  },
  {
   "cell_type": "code",
   "execution_count": 17,
   "id": "cb150e63",
   "metadata": {},
   "outputs": [
    {
     "data": {
      "text/plain": [
       "array([0.95955236])"
      ]
     },
     "execution_count": 17,
     "metadata": {},
     "output_type": "execute_result"
    }
   ],
   "source": [
    "model.predict([[2000, 3.754, -2.111, 24.3 ]])"
   ]
  },
  {
   "cell_type": "code",
   "execution_count": null,
   "id": "dfbee56f",
   "metadata": {},
   "outputs": [],
   "source": []
  }
 ],
 "metadata": {
  "kernelspec": {
   "display_name": "Python 3 (ipykernel)",
   "language": "python",
   "name": "python3"
  },
  "language_info": {
   "codemirror_mode": {
    "name": "ipython",
    "version": 3
   },
   "file_extension": ".py",
   "mimetype": "text/x-python",
   "name": "python",
   "nbconvert_exporter": "python",
   "pygments_lexer": "ipython3",
   "version": "3.9.13"
  }
 },
 "nbformat": 4,
 "nbformat_minor": 5
}
